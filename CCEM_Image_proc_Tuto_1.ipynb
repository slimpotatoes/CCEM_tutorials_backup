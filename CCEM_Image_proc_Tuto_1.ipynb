{
 "cells": [
  {
   "cell_type": "markdown",
   "id": "5d64881d",
   "metadata": {},
   "source": [
    "# **CCEM Image processing #1**\n",
    "\n",
    "Introduction to jupyter notebook ==> load, display and export data"
   ]
  },
  {
   "cell_type": "code",
   "execution_count": null,
   "id": "9e31b5c3",
   "metadata": {
    "scrolled": true
   },
   "outputs": [],
   "source": [
    "# To run only if using jupyter notebook through binder\n",
    "# Install the required packages in Jupyter kernel (internet connection required)\n",
    "import sys\n",
    "!{sys.executable} -m pip install numpy\n",
    "!{sys.executable} -m pip install imageio\n",
    "!{sys.executable} -m pip install matplotlib\n",
    "!{sys.executable} -m pip install matplotlib_scalebar"
   ]
  },
  {
   "cell_type": "code",
   "execution_count": null,
   "id": "f7412267",
   "metadata": {},
   "outputs": [],
   "source": [
    "# Import the required packages\n",
    "import numpy as np\n",
    "import imageio as io\n",
    "import matplotlib.pyplot as plt\n",
    "from matplotlib_scalebar.scalebar import ScaleBar"
   ]
  },
  {
   "cell_type": "markdown",
   "id": "4f85704f",
   "metadata": {},
   "source": [
    "Links to libraries documentation\n",
    "1. Numpy ==> <https://numpy.org/doc/stable/reference/index.html>\n",
    "2. imageio ==> <https://imageio.readthedocs.io/en/stable/reference/userapi.html>\n",
    "3. matplotlib.pyplot ==> <https://matplotlib.org/stable/api/pyplot_summary.html>\n",
    "4. matplotlib_scalebar ==> <https://pypi.org/project/matplotlib-scalebar/>"
   ]
  },
  {
   "cell_type": "code",
   "execution_count": null,
   "id": "03608d40",
   "metadata": {},
   "outputs": [],
   "source": [
    "# Command to get some interactivity with the data plotted\n",
    "%matplotlib notebook"
   ]
  },
  {
   "cell_type": "markdown",
   "id": "f6eae6df",
   "metadata": {},
   "source": [
    "## Simple plotting example"
   ]
  },
  {
   "cell_type": "code",
   "execution_count": null,
   "id": "879b2c32",
   "metadata": {},
   "outputs": [],
   "source": [
    "x = np.array([0, 1, 2, 3, 4, 5])\n",
    "\n",
    "u = x\n",
    "v = np.add(x, x) # v = 2*x\n",
    "w = np.multiply(x, x) # w = x^2\n",
    "\n",
    "print('x = ', x)\n",
    "print('u = ', u)\n",
    "print('v = ', v)\n",
    "print('w = ', w)"
   ]
  },
  {
   "cell_type": "code",
   "execution_count": null,
   "id": "6071318f",
   "metadata": {},
   "outputs": [],
   "source": [
    "fig = plt.figure()\n",
    "ax = fig.add_subplot(111)\n",
    "ax.plot(x, u)\n",
    "ax.plot(x, v)\n",
    "ax.plot(x, w)\n",
    "\n",
    "plt.show()"
   ]
  },
  {
   "cell_type": "code",
   "execution_count": null,
   "id": "56c18ce5",
   "metadata": {},
   "outputs": [],
   "source": [
    "fig = plt.figure()\n",
    "ax = fig.add_subplot(111)\n",
    "ax.plot(x, u, label='y=x')\n",
    "ax.plot(x, v, label='y=2x')\n",
    "ax.plot(x, w, label='y=x^2')\n",
    "ax.set_xlabel('x label')  # Add an x-label to the axes.\n",
    "ax.set_ylabel('y label')  # Add a y-label to the axes.\n",
    "ax.set_title(\"Simple Plot\")  # Add a title to the ax\n",
    "ax.legend() # Add legend\n",
    "\n",
    "plt.show()"
   ]
  },
  {
   "cell_type": "markdown",
   "id": "cff5fd2a",
   "metadata": {},
   "source": [
    "*Exercise: plot the cosine fuction in [0;10]*"
   ]
  },
  {
   "cell_type": "code",
   "execution_count": null,
   "id": "6a2b858a",
   "metadata": {},
   "outputs": [],
   "source": [
    "# Generate the data\n",
    "x = \n",
    "y = \n",
    "\n",
    "# Plot the data\n",
    "fig = \n",
    "ax = \n"
   ]
  },
  {
   "cell_type": "markdown",
   "id": "c956a68e",
   "metadata": {},
   "source": [
    "## Display image\n",
    "\n",
    "1. Load image\n",
    "2. Display 2D array\n",
    "3. Display properties"
   ]
  },
  {
   "cell_type": "code",
   "execution_count": null,
   "id": "57bf72a4",
   "metadata": {},
   "outputs": [],
   "source": [
    "# Load the data ==> Image .tif converted in a 2D numpy array\n",
    "\n",
    "image = io.imread('Silicon_Ref_7M2_2048_demo.tif')\n",
    "image_array = np.array(image)"
   ]
  },
  {
   "cell_type": "code",
   "execution_count": null,
   "id": "daa587a2",
   "metadata": {},
   "outputs": [],
   "source": [
    "print('Image')\n",
    "print(image)\n",
    "print(type(image))\n",
    "\n",
    "print('\\n')\n",
    "\n",
    "print('Image array')\n",
    "print(image_array)\n",
    "print(type(image_array))"
   ]
  },
  {
   "cell_type": "code",
   "execution_count": null,
   "id": "64ffc64e",
   "metadata": {},
   "outputs": [],
   "source": [
    "# Plot the data loaded\n",
    "\n",
    "fig = plt.figure()\n",
    "ax = fig.add_subplot(111)\n",
    "ax.imshow(image_array)\n",
    "\n",
    "plt.show()"
   ]
  },
  {
   "cell_type": "code",
   "execution_count": null,
   "id": "9012c59a",
   "metadata": {},
   "outputs": [],
   "source": [
    "# Change size of the figure and select colourmap\n",
    "\n",
    "fig = plt.figure(figsize=(9,9))\n",
    "ax = fig.add_subplot(111)\n",
    "ax.imshow(image_array, cmap='gray')\n",
    "\n",
    "plt.show()"
   ]
  },
  {
   "cell_type": "code",
   "execution_count": null,
   "id": "a204cc6d",
   "metadata": {},
   "outputs": [],
   "source": [
    "# Figure with two plots of the same image with two different colourmaps\n",
    "\n",
    "fig = plt.figure(figsize=(9,9))\n",
    "ax_left = fig.add_subplot(121)\n",
    "ax_right = fig.add_subplot(122, sharex=ax_left, sharey=ax_left) #sharex and sharey is linking the two plots when using the interactive actions\n",
    "ax_left.imshow(image_array, cmap='gray')\n",
    "ax_right.imshow(image_array, cmap='jet')\n",
    "\n",
    "plt.show()"
   ]
  },
  {
   "cell_type": "code",
   "execution_count": null,
   "id": "52c0f506",
   "metadata": {},
   "outputs": [],
   "source": [
    "# Add colourbar and scalebar\n",
    "\n",
    "fig = plt.figure(figsize=(9,9))\n",
    "ax = fig.add_subplot(111)\n",
    "im_disp = ax.imshow(image_array, cmap='gray')\n",
    "\n",
    "# Create colourbar\n",
    "plt.colorbar(im_disp, ax=ax)\n",
    "\n",
    "# Create scalebar\n",
    "scalebar = ScaleBar(5.28, \"pm\")\n",
    "ax.add_artist(scalebar)\n",
    "\n",
    "# Remove ticks and labels from image\n",
    "ax.tick_params(left=False, right=False , labelleft =False, labelbottom=False, bottom=False)\n",
    "\n",
    "\n",
    "plt.show()"
   ]
  },
  {
   "cell_type": "code",
   "execution_count": null,
   "id": "08bb5b7d",
   "metadata": {},
   "outputs": [],
   "source": [
    "# Change interpolation between pixels for the image visualization\n",
    "\n",
    "fig = plt.figure(figsize=(9,9))\n",
    "ax_left = fig.add_subplot(121)\n",
    "ax_right = fig.add_subplot(122, sharex=ax_left, sharey=ax_left)\n",
    "\n",
    "im_left = ax_left.imshow(image_array, cmap='gray', interpolation='none')\n",
    "im_right = ax_right.imshow(image_array, cmap='gray', interpolation='gaussian')\n",
    "\n",
    "\n",
    "scalebar_left = ScaleBar(5.28, \"pm\")\n",
    "scalebar_right = ScaleBar(5.28, \"pm\")\n",
    "ax_left.add_artist(scalebar_left)\n",
    "ax_right.add_artist(scalebar_right)\n",
    "\n",
    "ax_left.tick_params(left=False, right=False, labelleft=False, labelbottom=False, bottom=False)\n",
    "ax_right.tick_params(left=False, right=False, labelleft=False, labelbottom=False, bottom=False)\n",
    "\n",
    "plt.show()"
   ]
  },
  {
   "cell_type": "code",
   "execution_count": null,
   "id": "4ba91f52",
   "metadata": {},
   "outputs": [],
   "source": [
    "# Histogram plot\n",
    "\n",
    "fig = plt.figure(figsize=(9,9))\n",
    "ax = fig.add_subplot(111)\n",
    "ax.hist(image_array.ravel(), 100)\n",
    "\n",
    "plt.show()"
   ]
  },
  {
   "cell_type": "code",
   "execution_count": null,
   "id": "50d9b9e8",
   "metadata": {},
   "outputs": [],
   "source": [
    "# Set contrast limit (threshold)\n",
    "\n",
    "fig = plt.figure(figsize=(9,9))\n",
    "ax = fig.add_subplot(111)\n",
    "im_disp = ax.imshow(image_array, cmap='gray', clim=(10000, 20000)) # contrast limit (clim) keyword changed\n",
    "\n",
    "# Create colorbar\n",
    "plt.colorbar(im_disp, ax=ax)\n",
    "\n",
    "# Create scalebar\n",
    "scalebar = ScaleBar(5.28, \"pm\")\n",
    "ax.add_artist(scalebar)\n",
    "\n",
    "# Remove ticks and labels from image\n",
    "ax.tick_params(left=False, right=False, labelleft=False, labelbottom=False, bottom=False)\n",
    "\n",
    "plt.show()"
   ]
  },
  {
   "cell_type": "code",
   "execution_count": null,
   "id": "df833e1b",
   "metadata": {},
   "outputs": [],
   "source": [
    "# Figure with two plots to visualize the difference between two contrast limit conditions in grayscale\n",
    "\n",
    "fig = plt.figure(figsize=(9,9))\n",
    "ax_left = fig.add_subplot(121)\n",
    "ax_right = fig.add_subplot(122, sharex=ax_left, sharey=ax_left)\n",
    "ax_left.imshow(image_array, cmap='gray')\n",
    "ax_right.imshow(image_array, cmap='gray', clim=(12000, 20000))\n",
    "\n",
    "ax_left.set_title('Default')\n",
    "ax_right.set_title('Contrast adjusted')\n",
    "\n",
    "plt.show()"
   ]
  },
  {
   "cell_type": "code",
   "execution_count": null,
   "id": "5f7e1e62",
   "metadata": {},
   "outputs": [],
   "source": [
    "# Figure with two plots to visualize the difference between two contrast limit conditions with inferno colourmap\n",
    "\n",
    "fig = plt.figure(figsize=(9,9))\n",
    "ax_left = fig.add_subplot(121)\n",
    "ax_right = fig.add_subplot(122, sharex=ax_left, sharey=ax_left)\n",
    "ax_left.imshow(image_array, cmap='inferno')\n",
    "ax_right.imshow(image_array, cmap='inferno', clim=(12000, 20000))\n",
    "\n",
    "ax_left.set_title('Default')\n",
    "ax_right.set_title('Contrast adjusted')\n",
    "\n",
    "plt.show()"
   ]
  },
  {
   "cell_type": "markdown",
   "id": "4ebc9853",
   "metadata": {},
   "source": [
    "## Export data"
   ]
  },
  {
   "cell_type": "code",
   "execution_count": null,
   "id": "1a971e52",
   "metadata": {},
   "outputs": [],
   "source": [
    "# Save Silicon image in .png\n",
    "\n",
    "io.imwrite('Silicon_image.png', image_array)\n",
    "\n",
    "# Save figure with silicon image, colobar and scalebar\n",
    "\n",
    "plt.ioff() # Turn off temporarly the interactive plotting\n",
    "\n",
    "fig_export = plt.figure(figsize=(3.3, 3.3)) # ACS Journals one column size\n",
    "ax_export = fig_export.add_subplot(111)\n",
    "im_export = ax_export.imshow(image_array, cmap='inferno', clim=(12000, 20000))\n",
    "plt.colorbar(im_export, ax=ax_export, shrink=0.7)\n",
    "scalebar_export = ScaleBar(5.28, \"pm\")\n",
    "ax_export.add_artist(scalebar_export)\n",
    "ax_export.tick_params(left=False, right=False , labelleft=False ,\n",
    "                labelbottom=False, bottom=False)\n",
    "\n",
    "\n",
    "fig_export.savefig('Silicon_figure.png', dpi=300)\n",
    "\n",
    "plt.ion() # Turn back on the interactive plotting\n",
    "plt.close(fig_export) # Remove the plot from the memory"
   ]
  },
  {
   "cell_type": "markdown",
   "id": "cc31094f",
   "metadata": {},
   "source": [
    "*Exercise: Load your own image (2D array), display it with \"blue white red\" colormap using different contrast levels and export the figure.*"
   ]
  },
  {
   "cell_type": "code",
   "execution_count": null,
   "id": "0af99a24",
   "metadata": {},
   "outputs": [],
   "source": [
    "# Load the image\n",
    "image_exercise =\n",
    "image_exercise_array =\n",
    "\n",
    "\n",
    "# Plot the histogram\n",
    "fig = \n",
    "ax = "
   ]
  },
  {
   "cell_type": "code",
   "execution_count": null,
   "id": "c2566b0f",
   "metadata": {},
   "outputs": [],
   "source": [
    "# Make a figure with different contrast level and save the figure\n"
   ]
  }
 ],
 "metadata": {
  "kernelspec": {
   "display_name": "Python 3 (ipykernel)",
   "language": "python",
   "name": "python3"
  },
  "language_info": {
   "codemirror_mode": {
    "name": "ipython",
    "version": 3
   },
   "file_extension": ".py",
   "mimetype": "text/x-python",
   "name": "python",
   "nbconvert_exporter": "python",
   "pygments_lexer": "ipython3",
   "version": "3.10.0"
  }
 },
 "nbformat": 4,
 "nbformat_minor": 5
}
