{
 "cells": [
  {
   "cell_type": "markdown",
   "id": "2f001b3c",
   "metadata": {},
   "source": [
    "# CCEM/CALM Image Tutorial #4\n",
    "\n",
    "Introduction to mage series registration"
   ]
  },
  {
   "cell_type": "code",
   "execution_count": null,
   "id": "b86a0683",
   "metadata": {},
   "outputs": [],
   "source": [
    "# To run only if using jupyter notebook through binder\n",
    "# Install the required packages in Jupyter kernel (internet connection required)\n",
    "\n",
    "import sys\n",
    "!{sys.executable} -m pip install numpy\n",
    "!{sys.executable} -m pip install imageio\n",
    "!{sys.executable} -m pip install matplotlib\n",
    "!{sys.executable} -m pip install scikit-image\n",
    "!{sys.executable} -m pip install pystackreg"
   ]
  },
  {
   "cell_type": "code",
   "execution_count": null,
   "id": "21cef6ec",
   "metadata": {},
   "outputs": [],
   "source": [
    "# Libraries from tutorial #1\n",
    "import numpy as np\n",
    "import matplotlib.pyplot as plt\n",
    "import imageio as io\n",
    "\n",
    "# libraries for tutorial #3\n",
    "import matplotlib.animation as animation \n",
    "\n",
    "# New libraries for tutorial #4\n",
    "import skimage.registration as registration\n",
    "from pystackreg import StackReg\n",
    "from skimage.transform import AffineTransform, warp"
   ]
  },
  {
   "cell_type": "code",
   "execution_count": null,
   "id": "1bca81fc",
   "metadata": {},
   "outputs": [],
   "source": [
    "%matplotlib notebook"
   ]
  },
  {
   "cell_type": "markdown",
   "id": "2528dba5",
   "metadata": {},
   "source": [
    "Links to libraries documentation\n",
    "1. Numpy ==> <https://numpy.org/doc/stable/reference/index.html>\n",
    "2. matplotlib.pyplot ==> <https://matplotlib.org/stable/api/pyplot_summary.html>\n",
    "3. imageio ==> <https://imageio.readthedocs.io/en/stable/reference/userapi.html>\n",
    "4. matplotlib.animation ==> https://matplotlib.org/stable/api/animation_api.html\n",
    "5. scikit-image ==> <https://scikit-image.org/docs/stable/api/api.html>\n",
    "6. pystackreg ==> https://pystackreg.readthedocs.io/en/latest/readme.html\n"
   ]
  },
  {
   "cell_type": "markdown",
   "id": "bc1cd84f",
   "metadata": {},
   "source": [
    "## Load data series"
   ]
  },
  {
   "cell_type": "code",
   "execution_count": null,
   "id": "72f2b276",
   "metadata": {},
   "outputs": [],
   "source": [
    "data = io.volread('STEM_HAADF_series.tif')"
   ]
  },
  {
   "cell_type": "code",
   "execution_count": null,
   "id": "d21b051c",
   "metadata": {},
   "outputs": [],
   "source": [
    "print(data.meta)"
   ]
  },
  {
   "cell_type": "code",
   "execution_count": null,
   "id": "57f87478",
   "metadata": {},
   "outputs": [],
   "source": [
    "print(type(data))\n",
    "print(data.shape)"
   ]
  },
  {
   "cell_type": "code",
   "execution_count": null,
   "id": "22056b9a",
   "metadata": {},
   "outputs": [],
   "source": [
    "# Visualization of the raw image series (animation)\n",
    "\n",
    "fig_raw, ax_raw = plt.subplots()\n",
    "\n",
    "frames_raw = []\n",
    "\n",
    "for i, image in enumerate(data):\n",
    "    frames_raw.append([ax_raw.imshow(image, cmap='gray'), ax_raw.annotate(' z = ' + str(i), (100, 100), color='red')])\n",
    "    \n",
    "ani_raw = animation.ArtistAnimation(fig_raw, frames_raw, interval=200, blit=True, repeat_delay=200)\n",
    "\n",
    "plt.show()"
   ]
  },
  {
   "cell_type": "markdown",
   "id": "330a5ae8",
   "metadata": {},
   "source": [
    "## Simple shift registration"
   ]
  },
  {
   "cell_type": "code",
   "execution_count": null,
   "id": "1609a63e",
   "metadata": {},
   "outputs": [],
   "source": [
    "# Measure the shift between 2 images using skimage phase cross correlation\n",
    "\n",
    "params = ..."
   ]
  },
  {
   "cell_type": "code",
   "execution_count": null,
   "id": "cad2a35d",
   "metadata": {},
   "outputs": [],
   "source": [
    "# Print the output\n",
    "\n"
   ]
  },
  {
   "cell_type": "code",
   "execution_count": null,
   "id": "cd883bbe",
   "metadata": {},
   "outputs": [],
   "source": [
    "# Measure and correct the shift for the whole image series using the first image as the reference\n",
    "data_series_shifted = np.empty((10, 1024, 1024))\n",
    "\n",
    "for i, image in enumerate(data):\n",
    "    ...\n",
    "    \n",
    "    \n",
    "    "
   ]
  },
  {
   "cell_type": "code",
   "execution_count": null,
   "id": "c8ac788b",
   "metadata": {},
   "outputs": [],
   "source": [
    "# Compare the raw and aligned data series\n",
    "\n",
    "fig_comp, ax_comp = plt.subplots(2, 1, figsize=(8, 8), sharex=True, sharey=True)\n",
    "\n",
    "frames_comp = []\n",
    "\n",
    "...\n",
    "\n",
    "plt.show()"
   ]
  },
  {
   "cell_type": "code",
   "execution_count": null,
   "id": "24a55cd9",
   "metadata": {},
   "outputs": [],
   "source": [
    "# Compare the average of the raw and the aligned data series\n",
    "\n",
    "fig_comp_av, ax_comp_av = plt.subplots(2, 1, figsize=(8, 8), sharex=True, sharey=True)\n",
    "\n",
    "...\n",
    "\n",
    "plt.show()"
   ]
  },
  {
   "cell_type": "markdown",
   "id": "092a5351",
   "metadata": {},
   "source": [
    "## Dedicated library to register image series"
   ]
  },
  {
   "cell_type": "code",
   "execution_count": null,
   "id": "65d4729f",
   "metadata": {},
   "outputs": [],
   "source": [
    "# Initialize transformation for image series registration\n",
    "sr_T = StackReg(StackReg.TRANSLATION)\n",
    "sr_RB = StackReg(StackReg.RIGID_BODY)"
   ]
  },
  {
   "cell_type": "code",
   "execution_count": null,
   "id": "67abbe4e",
   "metadata": {},
   "outputs": [],
   "source": [
    "# Examples of translation and rigid body registration\n",
    "align_T = sr_T.register_stack(data, reference='first', verbose=True)\n",
    "align_RB = sr_RB.register_stack(data, reference='first', verbose=True)"
   ]
  },
  {
   "cell_type": "code",
   "execution_count": null,
   "id": "d5e5f458",
   "metadata": {},
   "outputs": [],
   "source": [
    "# Matrix transformation for the translation case for each image of the series\n",
    "print(align_T)"
   ]
  },
  {
   "cell_type": "code",
   "execution_count": null,
   "id": "8431beb8",
   "metadata": {},
   "outputs": [],
   "source": [
    "# Matrix transformation for the rigid body case for each image of the series\n",
    "print(align_RB)"
   ]
  },
  {
   "cell_type": "code",
   "execution_count": null,
   "id": "ef31473a",
   "metadata": {},
   "outputs": [],
   "source": [
    "# Apply the translation transformation on the raw series\n",
    "data_series_registered_T = sr_T.transform_stack(data)"
   ]
  },
  {
   "cell_type": "code",
   "execution_count": null,
   "id": "6780ce64",
   "metadata": {},
   "outputs": [],
   "source": [
    "# Apply the rigib body transformation on the raw series\n",
    "data_series_registered_RB = sr_RB.transform_stack(data)"
   ]
  },
  {
   "cell_type": "code",
   "execution_count": null,
   "id": "d4a18697",
   "metadata": {},
   "outputs": [],
   "source": [
    "# Comparison between the raw and all the registered image series\n",
    "fig_comp_final, ax_comp_final = plt.subplots(2, 2, figsize=(8, 8), sharex=True, sharey=True)\n",
    "\n",
    "frames_comp_final = []\n",
    "\n",
    "for i, image in enumerate(data):\n",
    "    frames_comp_final.append([ax_comp_final[0, 0].imshow(image, cmap='gray'), ax_comp_final[0, 0].annotate('z = ' + str(i), (100, 100), color='red'),\n",
    "                              ax_comp_final[1, 0].imshow(data_series_shifted[i], cmap='gray'), ax_comp_final[1, 0].annotate('z = ' + str(i), (100, 100), color='red'),\n",
    "                              ax_comp_final[0, 1].imshow(data_series_registered_T[i], cmap='gray'), ax_comp_final[0, 1].annotate('z = ' + str(i), (100, 100), color='red'),\n",
    "                              ax_comp_final[1, 1].imshow(data_series_registered_RB[i], cmap='gray'), ax_comp_final[1, 1].annotate('z = ' + str(i), (100, 100), color='red')\n",
    "                             ])\n",
    "\n",
    "ax_comp_final[0, 0].set_title('Raw image series')\n",
    "ax_comp_final[1, 0].set_title('Shift from phase correlation registration')\n",
    "ax_comp_final[0, 1].set_title('Translation registration')\n",
    "ax_comp_final[1, 1].set_title('Rigid body registration')\n",
    "    \n",
    "ani_comp_final = animation.ArtistAnimation(fig_comp_final, frames_comp_final, interval=200, blit=True, repeat_delay=200)\n",
    "\n",
    "plt.show()"
   ]
  },
  {
   "cell_type": "code",
   "execution_count": null,
   "id": "7cba776d",
   "metadata": {},
   "outputs": [],
   "source": [
    "# Compare the average of the raw and all the aligned data series\n",
    "\n",
    "fig_comp_av_final, ax_comp_av_final = plt.subplots(2, 2, figsize=(8, 8), sharex=True, sharey=True)\n",
    "\n",
    "ax_comp_av_final[0, 0].imshow(np.average(data, axis=0), cmap='gray')\n",
    "ax_comp_av_final[1, 0].imshow(np.average(data_series_shifted, axis=0), cmap='gray')\n",
    "ax_comp_av_final[0, 1].imshow(np.average(data_series_registered_T, axis=0), cmap='gray')\n",
    "ax_comp_av_final[1, 1].imshow(np.average(data_series_registered_RB, axis=0), cmap='gray')\n",
    "\n",
    "ax_comp_av_final[0, 0].set_title('Raw image series')\n",
    "ax_comp_av_final[1, 0].set_title('Shift from phase correlation registration')\n",
    "ax_comp_av_final[0, 1].set_title('Translation registration')\n",
    "ax_comp_av_final[1, 1].set_title('Rigid body registration')\n",
    "\n",
    "plt.show()"
   ]
  },
  {
   "cell_type": "markdown",
   "id": "fc929b8c",
   "metadata": {},
   "source": [
    "### Additional Python Packages for image registration\n",
    "- SimpleElastix ==> https://simpleelastix.github.io\n"
   ]
  }
 ],
 "metadata": {
  "kernelspec": {
   "display_name": "Python 3 (ipykernel)",
   "language": "python",
   "name": "python3"
  },
  "language_info": {
   "codemirror_mode": {
    "name": "ipython",
    "version": 3
   },
   "file_extension": ".py",
   "mimetype": "text/x-python",
   "name": "python",
   "nbconvert_exporter": "python",
   "pygments_lexer": "ipython3",
   "version": "3.9.0"
  }
 },
 "nbformat": 4,
 "nbformat_minor": 5
}
