{
 "cells": [
  {
   "cell_type": "markdown",
   "id": "f7ff96a7",
   "metadata": {},
   "source": [
    "# CCEM/CALM Image Tutorial #3\n",
    "\n",
    "Introduction to multidimensions data processing"
   ]
  },
  {
   "cell_type": "code",
   "execution_count": null,
   "id": "a2d6bb70",
   "metadata": {},
   "outputs": [],
   "source": [
    "# To run only if using jupyter notebook through binder\n",
    "# Install the required packages in Jupyter kernel (internet connection required)\n",
    "import sys\n",
    "!{sys.executable} -m pip install numpy\n",
    "!{sys.executable} -m pip install imageio\n",
    "!{sys.executable} -m pip install matplotlib\n",
    "!{sys.executable} -m pip install matplotlib_scalebar\n",
    "!{sys.executable} -m pip install scikit-image\n",
    "!{sys.executable} -m pip install scipy"
   ]
  },
  {
   "cell_type": "code",
   "execution_count": null,
   "id": "228b853d",
   "metadata": {},
   "outputs": [],
   "source": [
    "# Libraries from tutorial #1\n",
    "import numpy as np\n",
    "import matplotlib.pyplot as plt\n",
    "import matplotlib_scalebar as Scalebar\n",
    "import imageio as io\n",
    "\n",
    "# Libraries from tutorial #2\n",
    "import skimage.measure as measure\n",
    "\n",
    "# New libraries for tutorial #3\n",
    "import matplotlib.animation as animation \n",
    "from mpl_toolkits import mplot3d"
   ]
  },
  {
   "cell_type": "markdown",
   "id": "1a37eea5",
   "metadata": {},
   "source": [
    "Links to libraries documentation\n",
    "\n",
    "1. Numpy ==> https://numpy.org/doc/stable/reference/index.html\n",
    "2. imageio ==> https://imageio.readthedocs.io/en/stable/reference/userapi.html\n",
    "3. matplotlib.pyplot ==> https://matplotlib.org/stable/api/pyplot_summary.html\n",
    "4. matplotlib_scalebar ==> https://pypi.org/project/matplotlib-scalebar/\n",
    "5. scikit-image ==> https://scikit-image.org/docs/stable/api/api.html"
   ]
  },
  {
   "cell_type": "code",
   "execution_count": null,
   "id": "49ef5d2a",
   "metadata": {},
   "outputs": [],
   "source": [
    "%matplotlib notebook"
   ]
  },
  {
   "cell_type": "markdown",
   "id": "7e7e8d4b",
   "metadata": {},
   "source": [
    "### Load multidimensional data, navigation and visualization"
   ]
  },
  {
   "cell_type": "code",
   "execution_count": null,
   "id": "9da27b74",
   "metadata": {},
   "outputs": [],
   "source": [
    "# load data using the \"volume\" reader from imageio ==> imageio.volread()\n",
    "# Other options are possible using numpy (on a numpy file), ncempy (digitalmicrograph file) or tifffile (on a .tiff file) libraries\n",
    "\n",
    "data = io.volread('Beads_LD_GFP_zstack.tif')"
   ]
  },
  {
   "cell_type": "code",
   "execution_count": null,
   "id": "db05e45a",
   "metadata": {},
   "outputs": [],
   "source": [
    "# print metadata\n"
   ]
  },
  {
   "cell_type": "code",
   "execution_count": null,
   "id": "dce77963",
   "metadata": {},
   "outputs": [],
   "source": [
    "# Set scale (x, y z)\n",
    "\n",
    "scale_3D = ... #(x, y, z) size of the voxel in um"
   ]
  },
  {
   "cell_type": "code",
   "execution_count": null,
   "id": "7c057ff2",
   "metadata": {},
   "outputs": [],
   "source": [
    "# print shape data\n"
   ]
  },
  {
   "cell_type": "code",
   "execution_count": null,
   "id": "d8452eb8",
   "metadata": {},
   "outputs": [],
   "source": [
    "# print a few elements from the data\n",
    "\n",
    "\n",
    "\n",
    "\n"
   ]
  },
  {
   "cell_type": "code",
   "execution_count": null,
   "id": "3320d4fd",
   "metadata": {},
   "outputs": [],
   "source": [
    "# Visualization using matplotlib colormaps Reds, Greens and Blues on 2D images\n",
    "\n",
    "fig, ax = plt.subplots(1, 3, figsize=(6, 6))\n",
    "\n"
   ]
  },
  {
   "cell_type": "code",
   "execution_count": null,
   "id": "5e17a315",
   "metadata": {},
   "outputs": [],
   "source": [
    " # \"Roll\" the data\n",
    "\n",
    "data_roll = \n",
    "    \n",
    "    "
   ]
  },
  {
   "cell_type": "code",
   "execution_count": null,
   "id": "54c0e07f",
   "metadata": {},
   "outputs": [],
   "source": []
  },
  {
   "cell_type": "code",
   "execution_count": null,
   "id": "c4b74430",
   "metadata": {},
   "outputs": [],
   "source": [
    "# Transform data to be suitable for matplotlib imshow function with RGB images\n",
    "\n",
    "data_transpose =\n",
    "\n"
   ]
  },
  {
   "cell_type": "code",
   "execution_count": null,
   "id": "845cbf75",
   "metadata": {},
   "outputs": [],
   "source": [
    "# Visualize the results\n",
    "\n",
    "fig, ax = plt.subplots(1, 3, figsize=(6, 6))\n",
    "\n",
    "\n"
   ]
  },
  {
   "cell_type": "code",
   "execution_count": null,
   "id": "3a586ef1",
   "metadata": {},
   "outputs": [],
   "source": [
    "# Projection along other dimensions\n",
    "\n",
    "fig, ax = plt.subplots(1, 3, figsize=(9, 9))\n",
    "\n",
    "\n"
   ]
  },
  {
   "cell_type": "code",
   "execution_count": null,
   "id": "0a480df0",
   "metadata": {},
   "outputs": [],
   "source": [
    "# Example of custom data visualization\n",
    "\n",
    "fig, ax = plt.subplots(3, 1, figsize=(9, 9))\n",
    "ax[0].imshow(data_roll[ :, 0, :, 150], cmap='gray')\n",
    "ax[1].imshow(data_roll[ :, 0, 150, :], cmap='gray')\n",
    "\n",
    "ax[2].plot(np.average(data_roll[:, :, 150:200, 150:200], axis=(2, 3))[:, 0], color='cyan', label='channel 0 - red')\n",
    "ax[2].plot(np.average(data_roll[:, :, 150:200, 150:200], axis=(2, 3))[:, 1], color='magenta', label='channel 1 - green')\n",
    "ax[2].plot(np.average(data_roll[:, :, 150:200, 150:200], axis=(2, 3))[:, 2], color='yellow', label='channel 2 -blue')\n",
    "\n",
    "ax[2].legend()\n",
    "\n",
    "plt.show()"
   ]
  },
  {
   "cell_type": "markdown",
   "id": "fc9e3dfd",
   "metadata": {},
   "source": [
    "### Example of feature extraction in multidimensional data\n",
    "\n",
    "Threshold particles along blue axis of the rolled data, group them along the stack, and visualize them in 3D"
   ]
  },
  {
   "cell_type": "code",
   "execution_count": null,
   "id": "789566ff",
   "metadata": {},
   "outputs": [],
   "source": [
    "# Histogram plot along the proper channel to determine the threshold\n",
    "\n",
    "fig, ax = plt.subplots()\n",
    "\n"
   ]
  },
  {
   "cell_type": "code",
   "execution_count": null,
   "id": "b338e285",
   "metadata": {},
   "outputs": [],
   "source": [
    "# Threshold the multidimensional data\n",
    "\n",
    "data_threshold = \n",
    "\n"
   ]
  },
  {
   "cell_type": "code",
   "execution_count": null,
   "id": "bd3308eb",
   "metadata": {},
   "outputs": [],
   "source": [
    "# Animation/movie of the thresholded data along z-stack\n",
    "fig, ax = plt.subplots(figsize=(6, 6))\n",
    "\n",
    "# Add animation here\n",
    "...\n",
    "...\n",
    "...\n",
    "\n",
    "ani = animation.ArtistAnimation(fig, frames, interval=200, blit=True, repeat_delay=200)\n",
    "\n",
    "plt.show()"
   ]
  },
  {
   "cell_type": "code",
   "execution_count": null,
   "id": "7697fbef",
   "metadata": {},
   "outputs": [],
   "source": [
    "# Export animation in .gif format\n",
    "\n",
    "metadata_animation=dict(title='Blob_threshold_zstack', artist='CCEM/CALM')\n",
    "writergif = animation.PillowWriter(fps=20, metadata=metadata_animation)\n",
    "ani.save('Blob_threshold_zstack.gif', writer=writergif, dpi=120)"
   ]
  },
  {
   "cell_type": "code",
   "execution_count": null,
   "id": "fca6a3bf",
   "metadata": {},
   "outputs": [],
   "source": []
  },
  {
   "cell_type": "code",
   "execution_count": null,
   "id": "0bd17d26",
   "metadata": {},
   "outputs": [],
   "source": []
  },
  {
   "cell_type": "code",
   "execution_count": null,
   "id": "4f7e9869",
   "metadata": {},
   "outputs": [],
   "source": []
  },
  {
   "cell_type": "code",
   "execution_count": null,
   "id": "0d6e62cc",
   "metadata": {},
   "outputs": [],
   "source": []
  },
  {
   "cell_type": "code",
   "execution_count": null,
   "id": "d2df956c",
   "metadata": {},
   "outputs": [],
   "source": []
  },
  {
   "cell_type": "code",
   "execution_count": null,
   "id": "7ec8a7af",
   "metadata": {},
   "outputs": [],
   "source": [
    "# Label each separated particles\n",
    "\n",
    "data_label = ..."
   ]
  },
  {
   "cell_type": "code",
   "execution_count": null,
   "id": "63e81ae9",
   "metadata": {},
   "outputs": [],
   "source": [
    "# Animation of the labeled data along z-stack\n",
    "\n",
    "fig, ax = plt.subplots(figsize=(6, 6))\n",
    "\n",
    "frames = []\n",
    "for i, array in enumerate(data_label):\n",
    "    frames.append([ax.imshow(array, cmap='tab20', clim=(0, 74), animated=True), ax.annotate('z = ' + str(i), (340, 20))])\n",
    "\n",
    "ani = animation.ArtistAnimation(fig, frames, interval=200, blit=True, repeat_delay=200)\n",
    "\n",
    "plt.show()"
   ]
  },
  {
   "cell_type": "code",
   "execution_count": null,
   "id": "3256ce31",
   "metadata": {},
   "outputs": [],
   "source": [
    "# Extract the contour from the particle labelled 1 \n",
    "\n",
    "contour_label_1 = np.empty((0, 3))  # (x, y, z coordinate)\n",
    "\n",
    "for ... # loop in z-stack (measure.find_contours only works on 2D images)\n",
    "    \n",
    "    "
   ]
  },
  {
   "cell_type": "code",
   "execution_count": null,
   "id": "1641f8a5",
   "metadata": {},
   "outputs": [],
   "source": [
    "# Extract the contours of each particles\n",
    "\n",
    "contours_label = {} # dictionary\n",
    "\n",
    "for ... # loop over the labels\n",
    "\n",
    "\n",
    "\n",
    "\n"
   ]
  },
  {
   "cell_type": "code",
   "execution_count": null,
   "id": "0a03b4a6",
   "metadata": {},
   "outputs": [],
   "source": [
    "# Plot the contour in three dimensions of the particle labelled 1\n",
    "\n",
    "fig = plt.figure()\n",
    "ax = fig.add_subplot(projection='3d')\n",
    "\n",
    "# 3D scatter plot\n",
    "ax.scatter(....)\n",
    "\n",
    "plt.show()"
   ]
  },
  {
   "cell_type": "code",
   "execution_count": null,
   "id": "6d3d921e",
   "metadata": {},
   "outputs": [],
   "source": [
    "# Plot the contour in three dimensions of all particles\n",
    "\n",
    "fig = plt.figure()\n",
    "ax = fig.add_subplot(projection='3d')\n",
    "\n",
    "# Loop over the particles contour coordinates and use the 3D scatter plot\n",
    "for ... :\n",
    "    ax.scatter(...)\n",
    "\n",
    "ax.set_box_aspect(scale_3D)  # to scale the 3D space\n",
    "\n",
    "plt.show()\n",
    "\n"
   ]
  },
  {
   "cell_type": "code",
   "execution_count": null,
   "id": "4fefe283",
   "metadata": {},
   "outputs": [],
   "source": [
    "# One example to fill the space between points by making a surface between three adjacent points (trisurf) for the first particle\n",
    "\n",
    "# Import additional libraries\n",
    "from matplotlib.tri import triangulation\n",
    "from scipy.spatial import ConvexHull\n",
    "\n",
    "contours_label_copy = contours_label.copy() # Creating a copy of the data for safety\n",
    "cvx = ConvexHull(contours_label_copy[1]) # Minimal convex set containing a set of points"
   ]
  },
  {
   "cell_type": "code",
   "execution_count": null,
   "id": "ff728e01",
   "metadata": {},
   "outputs": [],
   "source": [
    "print(type(cvx))\n",
    "print(type(cvx.simplices))"
   ]
  },
  {
   "cell_type": "code",
   "execution_count": null,
   "id": "47cd7a71",
   "metadata": {},
   "outputs": [],
   "source": [
    "print(cvx.simplices)"
   ]
  },
  {
   "cell_type": "code",
   "execution_count": null,
   "id": "99540876",
   "metadata": {},
   "outputs": [],
   "source": [
    "# Visualization of the ConvexHull process\n",
    "\n",
    "fig = plt.figure(figsize=(6, 6))\n",
    "ax = fig.add_subplot(projection='3d')\n",
    "\n",
    "ax.scatter(contours_label[1][:, 0], contours_label[1][:, 1], contours_label[1][:, 2], color='red')\n",
    "\n",
    "ax.plot(contours_label[1][cvx.simplices[1], 0], contours_label[1][cvx.simplices[1], 1], contours_label[1][cvx.simplices[1], 2], lw=3, alpha=0.5)\n",
    "ax.plot(contours_label[1][cvx.simplices[20], 0], contours_label[1][cvx.simplices[20], 1], contours_label[1][cvx.simplices[20], 2], lw=3, alpha=0.5)\n",
    "ax.plot(contours_label[1][cvx.simplices[15], 0], contours_label[1][cvx.simplices[15], 1], contours_label[1][cvx.simplices[15], 2], lw=3, alpha=0.5)\n",
    "ax.plot(contours_label[1][cvx.simplices[7], 0], contours_label[1][cvx.simplices[7], 1], contours_label[1][cvx.simplices[7], 2], lw=3, alpha=0.5)\n",
    "\n",
    "plt.show()"
   ]
  },
  {
   "cell_type": "code",
   "execution_count": null,
   "id": "ab249a55",
   "metadata": {},
   "outputs": [],
   "source": [
    "# Same plot for all particles (except label 48 and 64 showing particular problems)\n",
    "\n",
    "fig = plt.figure(figsize=(10, 5))\n",
    "ax = fig.add_subplot(projection='3d')\n",
    "\n",
    "for label in range(1, 74):\n",
    "    if label != 48 and label !=64: #Two areas are causing problems, so there are manually removed\n",
    "        cvx = ConvexHull(contours_label_copy[label])\n",
    "        x, y, z = contours_label_copy[label].T\n",
    "        tri = triangulation.Triangulation(x, y, triangles=cvx.simplices)\n",
    "        ax.plot_trisurf(tri, z)\n",
    "    \n",
    "ax.set_box_aspect(scale_3D)  # to scale the 3D space\n",
    "\n",
    "fig.tight_layout()\n",
    "\n",
    "plt.show()"
   ]
  }
 ],
 "metadata": {
  "kernelspec": {
   "display_name": "Python 3 (ipykernel)",
   "language": "python",
   "name": "python3"
  },
  "language_info": {
   "codemirror_mode": {
    "name": "ipython",
    "version": 3
   },
   "file_extension": ".py",
   "mimetype": "text/x-python",
   "name": "python",
   "nbconvert_exporter": "python",
   "pygments_lexer": "ipython3",
   "version": "3.9.0"
  }
 },
 "nbformat": 4,
 "nbformat_minor": 5
}
