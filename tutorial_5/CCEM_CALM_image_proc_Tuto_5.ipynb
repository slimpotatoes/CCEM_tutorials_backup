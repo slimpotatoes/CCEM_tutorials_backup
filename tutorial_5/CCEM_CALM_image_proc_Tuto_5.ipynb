{
 "cells": [
  {
   "cell_type": "markdown",
   "id": "ceee9032",
   "metadata": {},
   "source": [
    "# CCEM/CALM Image Tutorial #5"
   ]
  },
  {
   "cell_type": "markdown",
   "id": "1c4e3367",
   "metadata": {},
   "source": [
    "## Introduction to Fourier filtering"
   ]
  },
  {
   "cell_type": "code",
   "execution_count": null,
   "id": "ecacaa43",
   "metadata": {
    "scrolled": true
   },
   "outputs": [],
   "source": [
    "# To run only if using jupyter notebook through binder\n",
    "# Install the required packages in Jupyter kernel (internet connection required)\n",
    "\n",
    "import sys\n",
    "!{sys.executable} -m pip install numpy\n",
    "!{sys.executable} -m pip install imageio\n",
    "!{sys.executable} -m pip install matplotlib\n",
    "!{sys.executable} -m pip install scikit-image"
   ]
  },
  {
   "cell_type": "code",
   "execution_count": null,
   "id": "c01d12ca",
   "metadata": {},
   "outputs": [],
   "source": [
    "# Libraries from tutorial #1\n",
    "import numpy as np\n",
    "import matplotlib.pyplot as plt\n",
    "import imageio as io\n",
    "\n",
    "# Library from tutorial #2\n",
    "import skimage.filters as filters\n",
    "\n",
    "# New library\n",
    "from matplotlib.colors import LogNorm"
   ]
  },
  {
   "cell_type": "markdown",
   "id": "e529bba5",
   "metadata": {},
   "source": [
    "Links to libraries documentation\n",
    "\n",
    "1. Numpy ==> <https://numpy.org/doc/stable/reference/index.html>\n",
    "2. imageio ==> <https://imageio.readthedocs.io/en/stable/reference/userapi.html>\n",
    "3. matplotlib.pyplot ==> <https://matplotlib.org/stable/api/pyplot_summary.html>\n",
    "4. scikit-image ==> <https://scikit-image.org/docs/stable/api/api.html>\n",
    "5. matplotlib.colors ==> <https://matplotlib.org/stable/api/colors_api.html>"
   ]
  },
  {
   "cell_type": "code",
   "execution_count": null,
   "id": "aaa3f1eb",
   "metadata": {},
   "outputs": [],
   "source": [
    "%matplotlib notebook"
   ]
  },
  {
   "cell_type": "markdown",
   "id": "ba48aaf7",
   "metadata": {},
   "source": [
    "## Denoising with Fourier filtering"
   ]
  },
  {
   "cell_type": "code",
   "execution_count": null,
   "id": "fdadd959",
   "metadata": {},
   "outputs": [],
   "source": [
    "# Load data\n",
    "image_si = ..."
   ]
  },
  {
   "cell_type": "code",
   "execution_count": null,
   "id": "d46aac38",
   "metadata": {},
   "outputs": [],
   "source": [
    "# Plot image\n",
    "fig_si, ax_si = plt.subplots()\n",
    "...\n",
    "\n",
    "plt.show()"
   ]
  },
  {
   "cell_type": "code",
   "execution_count": null,
   "id": "3ad6465c",
   "metadata": {},
   "outputs": [],
   "source": []
  },
  {
   "cell_type": "code",
   "execution_count": null,
   "id": "0ea43258",
   "metadata": {},
   "outputs": [],
   "source": []
  },
  {
   "cell_type": "code",
   "execution_count": null,
   "id": "53a1568e",
   "metadata": {},
   "outputs": [],
   "source": []
  },
  {
   "cell_type": "code",
   "execution_count": null,
   "id": "220a05c8",
   "metadata": {},
   "outputs": [],
   "source": [
    "#Perform 2D Fourier transform\n",
    "fft_si = ..."
   ]
  },
  {
   "cell_type": "code",
   "execution_count": null,
   "id": "02b1bf83",
   "metadata": {
    "scrolled": false
   },
   "outputs": [],
   "source": [
    "# Plot the results\n",
    "fig_si_fft, ax_si_fft = plt.subplots()\n",
    "ax_si_fft.imshow(..., cmap='gray')\n",
    "\n",
    "plt.show()"
   ]
  },
  {
   "cell_type": "code",
   "execution_count": null,
   "id": "e360f403",
   "metadata": {},
   "outputs": [],
   "source": []
  },
  {
   "cell_type": "code",
   "execution_count": null,
   "id": "e5297926",
   "metadata": {},
   "outputs": [],
   "source": []
  },
  {
   "cell_type": "markdown",
   "id": "7004ad50",
   "metadata": {},
   "source": [
    "Mask a portion of the Fourier space to filter in spatial frequency ==> Masked_FT = Mask x FT_image"
   ]
  },
  {
   "cell_type": "code",
   "execution_count": null,
   "id": "ce0ace03",
   "metadata": {},
   "outputs": [],
   "source": [
    "#Create a 2D grid representing the 2D space\n",
    "x = np.linspace(0, 2047, 2048)\n",
    "y = np.linspace(0, 2047, 2048)\n",
    "\n",
    "xx, yy = ..."
   ]
  },
  {
   "cell_type": "code",
   "execution_count": null,
   "id": "608a0e40",
   "metadata": {},
   "outputs": [],
   "source": [
    "print('xx = ', xx)\n",
    "print('yy = ', yy)"
   ]
  },
  {
   "cell_type": "code",
   "execution_count": null,
   "id": "48f65723",
   "metadata": {},
   "outputs": [],
   "source": []
  },
  {
   "cell_type": "code",
   "execution_count": null,
   "id": "fb918328",
   "metadata": {},
   "outputs": [],
   "source": []
  },
  {
   "cell_type": "code",
   "execution_count": null,
   "id": "3dc09049",
   "metadata": {},
   "outputs": [],
   "source": []
  },
  {
   "cell_type": "code",
   "execution_count": null,
   "id": "aeffd567",
   "metadata": {},
   "outputs": [],
   "source": [
    "# Function creating a 2D gaussian mask\n",
    "def gaussian_2d(A, center_x, center_y, sigma, grid_x, grid_y):\n",
    "    mask = A * np.exp( - ( ( (grid_x - center_x) ** 2 + (grid_y - center_y) ** 2) / ( sigma ** 2 ) ))\n",
    "    return mask"
   ]
  },
  {
   "cell_type": "code",
   "execution_count": null,
   "id": "0ca4f67c",
   "metadata": {},
   "outputs": [],
   "source": [
    "# Make a function creating a 2D circular mask\n",
    "def circle_2d(radius, center_x, center_y, grid_x, grid_y):\n",
    "    mask_circle = ...\n",
    "    # Condition to be inside the mask\n",
    "    inside = ...\n",
    "    # Apply the inside condition in mask_circle\n",
    "    mask_circle[inside] = ...\n",
    "    return mask_circle"
   ]
  },
  {
   "cell_type": "code",
   "execution_count": null,
   "id": "8ccdd27c",
   "metadata": {},
   "outputs": [],
   "source": []
  },
  {
   "cell_type": "code",
   "execution_count": null,
   "id": "b6202e8a",
   "metadata": {},
   "outputs": [],
   "source": []
  },
  {
   "cell_type": "code",
   "execution_count": null,
   "id": "ff8746c9",
   "metadata": {},
   "outputs": [],
   "source": []
  },
  {
   "cell_type": "code",
   "execution_count": null,
   "id": "5b1b8a92",
   "metadata": {},
   "outputs": [],
   "source": []
  },
  {
   "cell_type": "code",
   "execution_count": null,
   "id": "e44a7e72",
   "metadata": {},
   "outputs": [],
   "source": [
    "# Generate circular and gaussian mask cutting the high spatial frequency\n",
    "mask_circle = circle_2d(...)\n",
    "mask_gaussian = gaussian_2d(...)\n",
    "\n",
    "# Apply the mask\n",
    "fft_si_mask_circle = ... \n",
    "fft_si_mask_gaussian = ... \n",
    "\n",
    "# Apply a combined gaussian and circular mask\n",
    "fft_si_mask_gaussian_circle = ..."
   ]
  },
  {
   "cell_type": "code",
   "execution_count": null,
   "id": "9878c156",
   "metadata": {},
   "outputs": [],
   "source": []
  },
  {
   "cell_type": "code",
   "execution_count": null,
   "id": "e022f3e2",
   "metadata": {},
   "outputs": [],
   "source": []
  },
  {
   "cell_type": "code",
   "execution_count": null,
   "id": "d787af21",
   "metadata": {},
   "outputs": [],
   "source": []
  },
  {
   "cell_type": "code",
   "execution_count": null,
   "id": "30a0ad39",
   "metadata": {},
   "outputs": [],
   "source": [
    "fig_si_fft_mask, ax_si_fft_mask = plt.subplots(1, 3, figsize=(9.5, 4))\n",
    "ax_si_fft_mask[0].imshow(np.abs(fft_si_mask_circle), cmap='gray', norm=LogNorm(clip=True))\n",
    "ax_si_fft_mask[1].imshow(np.abs(fft_si_mask_gaussian), cmap='gray', norm=LogNorm(clip=True))\n",
    "ax_si_fft_mask[2].imshow(np.abs(fft_si_mask_gaussian_circle), cmap='gray', norm=LogNorm(clip=True))\n",
    "\n",
    "ax_si_fft_mask[0].set_title('Circular mask')\n",
    "ax_si_fft_mask[1].set_title('Gaussian mask')\n",
    "ax_si_fft_mask[2].set_title('Circular and gaussian mask')\n",
    "\n",
    "plt.show()"
   ]
  },
  {
   "cell_type": "code",
   "execution_count": null,
   "id": "07a4c3c9",
   "metadata": {},
   "outputs": [],
   "source": [
    "# Apply the inverse Fourier transform on the masked fourier transform\n",
    "image_si_filtered_circle = ...\n",
    "image_si_filtered_gaussian = ...\n",
    "image_si_filtered_gaussian_circle = .."
   ]
  },
  {
   "cell_type": "code",
   "execution_count": null,
   "id": "7c3cc9e5",
   "metadata": {},
   "outputs": [],
   "source": [
    "# Visualize the fourier filtered images\n",
    "fig_filtered, ax_filtered = plt.subplots(2, 2, figsize=(9, 9), sharex=True, sharey=True)\n",
    "ax_filtered[0, 0].imshow(image_si, cmap='gray')\n",
    "ax_filtered[0, 1].imshow(np.real(image_si_filtered_circle), cmap='gray')\n",
    "ax_filtered[1, 0].imshow(np.real(image_si_filtered_gaussian), cmap='gray')\n",
    "ax_filtered[1, 1].imshow(np.real(image_si_filtered_gaussian_circle), cmap='gray')\n",
    "\n",
    "ax_filtered[0, 0].set_title('Raw data')\n",
    "ax_filtered[0, 1].set_title('Filtered circular mask')\n",
    "ax_filtered[1, 0].set_title('Filtered gaussian mask')\n",
    "ax_filtered[1, 1].set_title('Filtered circular and gaussian mask')\n",
    "\n",
    "plt.show()"
   ]
  },
  {
   "cell_type": "code",
   "execution_count": null,
   "id": "b48478bd",
   "metadata": {},
   "outputs": [],
   "source": []
  },
  {
   "cell_type": "code",
   "execution_count": null,
   "id": "b6522cc9",
   "metadata": {},
   "outputs": [],
   "source": []
  },
  {
   "cell_type": "markdown",
   "id": "3c42879b",
   "metadata": {},
   "source": [
    "## Lattice fringes separation"
   ]
  },
  {
   "cell_type": "code",
   "execution_count": null,
   "id": "d55130dd",
   "metadata": {},
   "outputs": [],
   "source": [
    "image_inp = io.imread('STEM_InP_111.tif')"
   ]
  },
  {
   "cell_type": "code",
   "execution_count": null,
   "id": "ccbc8a55",
   "metadata": {},
   "outputs": [],
   "source": [
    "fft_inp = np.fft.fft2(image_inp)\n",
    "fft_inp_shifted = np.fft.fftshift(fft_inp)"
   ]
  },
  {
   "cell_type": "code",
   "execution_count": null,
   "id": "466a00a2",
   "metadata": {
    "scrolled": false
   },
   "outputs": [],
   "source": [
    "fig_inp_fft, ax_inp_fft = plt.subplots(1, 2, figsize=(9.5, 6))\n",
    "ax_inp_fft[0].imshow(image_inp, cmap='gray')\n",
    "ax_inp_fft[1].imshow(np.abs(fft_inp_shifted), cmap='gray', norm=LogNorm())\n",
    "\n",
    "plt.show()"
   ]
  },
  {
   "cell_type": "code",
   "execution_count": null,
   "id": "97733671",
   "metadata": {},
   "outputs": [],
   "source": [
    "# Create a circular masks a the reflection 111\n",
    "mask_circle_111 = ..."
   ]
  },
  {
   "cell_type": "code",
   "execution_count": null,
   "id": "67ed2a1e",
   "metadata": {},
   "outputs": [],
   "source": [
    "# Apply the mask and verify how it looks\n",
    "fft_si_mask_circle_111 = ..."
   ]
  },
  {
   "cell_type": "code",
   "execution_count": null,
   "id": "b71a5f23",
   "metadata": {},
   "outputs": [],
   "source": [
    "fig_fft_111, ax_fft_111 = plt.figure()\n",
    "ax_fft_111.imshow(np.abs(fft_si_mask_circle_111), cmap='gray', norm=LogNorm(clip=True))\n",
    "\n",
    "plt.show()"
   ]
  },
  {
   "cell_type": "code",
   "execution_count": null,
   "id": "cbe6ddce",
   "metadata": {},
   "outputs": [],
   "source": []
  },
  {
   "cell_type": "code",
   "execution_count": null,
   "id": "ba752eee",
   "metadata": {},
   "outputs": [],
   "source": []
  },
  {
   "cell_type": "code",
   "execution_count": null,
   "id": "18448948",
   "metadata": {},
   "outputs": [],
   "source": []
  },
  {
   "cell_type": "code",
   "execution_count": null,
   "id": "ad3fde39",
   "metadata": {},
   "outputs": [],
   "source": [
    "# Generate the other masks on the other reflections\n",
    "mask_circle_11bar1_a = circle_2d(30, 1204, 971, xx, yy)\n",
    "mask_circle_11bar1_b = circle_2d(30, 1205, 908, xx, yy)\n",
    "mask_circle_002_a = circle_2d(30, 848, 888, xx, yy)\n",
    "mask_circle_002_b = circle_2d(30, 847, 951, xx, yy)"
   ]
  },
  {
   "cell_type": "code",
   "execution_count": null,
   "id": "92cbc280",
   "metadata": {},
   "outputs": [],
   "source": [
    "# Apply all the masks individually\n",
    "fft_si_mask_circle_11bar1_a = mask_circle_11bar1_a * fft_inp_shifted\n",
    "fft_si_mask_circle_11bar1_b = mask_circle_11bar1_b * fft_inp_shifted\n",
    "fft_si_mask_circle_002_a = mask_circle_002_a * fft_inp_shifted\n",
    "fft_si_mask_circle_002_b = mask_circle_002_b * fft_inp_shifted "
   ]
  },
  {
   "cell_type": "code",
   "execution_count": null,
   "id": "598af6e6",
   "metadata": {
    "scrolled": false
   },
   "outputs": [],
   "source": [
    "#Visualize the masking result\n",
    "fig_inp_fft_mask, ax_inp_fft_mask = plt.subplots(1, 1, figsize=(5, 5))\n",
    "ax_inp_fft_mask.imshow(np.abs(fft_si_mask_circle_111)\n",
    "                       + np.abs(fft_si_mask_circle_11bar1_a)\n",
    "                       + np.abs(fft_si_mask_circle_11bar1_b)\n",
    "                       + np.abs(fft_si_mask_circle_002_a) \n",
    "                       + np.abs(fft_si_mask_circle_002_b), cmap='gray', norm=LogNorm(clip=True))\n",
    "\n",
    "ax_inp_fft_mask.set_xlim(500, 1500)\n",
    "ax_inp_fft_mask.set_ylim(1500, 500)\n",
    "\n",
    "ax_inp_fft_mask.scatter(1024, 1024, s=10, color='red')\n",
    "ax_inp_fft_mask.annotate('$000$', (1024 + 20, 1024 + 20), color='red')\n",
    "ax_inp_fft_mask.annotate('$111$', (1028 + 20, 834 + 20), color='red')\n",
    "ax_inp_fft_mask.annotate('$11\\overline{1}_a$', (1204 + 20, 971 + 20), color='red')\n",
    "ax_inp_fft_mask.annotate('$11\\overline{1}_b$', (1205 + 20, 908 + 20), color='red')\n",
    "ax_inp_fft_mask.annotate('$00\\overline{2}_a$', (848 + 20, 888 + 20), color='red')\n",
    "ax_inp_fft_mask.annotate('$00\\overline{2}_b$', (847 + 20, 951 + 20), color='red')\n",
    "\n",
    "plt.show()"
   ]
  },
  {
   "cell_type": "code",
   "execution_count": null,
   "id": "dad55ca0",
   "metadata": {},
   "outputs": [],
   "source": []
  },
  {
   "cell_type": "code",
   "execution_count": null,
   "id": "df44082e",
   "metadata": {},
   "outputs": [],
   "source": []
  },
  {
   "cell_type": "code",
   "execution_count": null,
   "id": "21e29f46",
   "metadata": {},
   "outputs": [],
   "source": [
    "# Visualize the lattice fringes from the $11\\overline{1}_a$ reflection\n",
    "# 1. Inverse fourier transform\n",
    "# 2. Plot the results with both the original image and the $11\\overline{1}_a$ lattice fringes\n",
    "\n",
    "image_filtered_11bar1_a = ...\n"
   ]
  },
  {
   "cell_type": "code",
   "execution_count": null,
   "id": "0053cc90",
   "metadata": {},
   "outputs": [],
   "source": []
  },
  {
   "cell_type": "code",
   "execution_count": null,
   "id": "ce23595a",
   "metadata": {},
   "outputs": [],
   "source": []
  },
  {
   "cell_type": "code",
   "execution_count": null,
   "id": "767afe7d",
   "metadata": {},
   "outputs": [],
   "source": []
  },
  {
   "cell_type": "code",
   "execution_count": null,
   "id": "c0bd2595",
   "metadata": {},
   "outputs": [],
   "source": []
  },
  {
   "cell_type": "code",
   "execution_count": null,
   "id": "d29e34a9",
   "metadata": {},
   "outputs": [],
   "source": [
    "# Inverse Fourier transform on all individual masked images\n",
    "image_filtered_111 = np.fft.ifft2(np.fft.ifftshift(fft_si_mask_circle_111))\n",
    "image_filtered_11bar1_b = np.fft.ifft2(np.fft.ifftshift(fft_si_mask_circle_11bar1_b))\n",
    "image_filtered_002_a = np.fft.ifft2(np.fft.ifftshift(fft_si_mask_circle_002_a))\n",
    "image_filtered_002_b = np.fft.ifft2(np.fft.ifftshift(fft_si_mask_circle_002_b))"
   ]
  },
  {
   "cell_type": "code",
   "execution_count": null,
   "id": "7b9e98b4",
   "metadata": {},
   "outputs": [],
   "source": [
    "# Plot the Fourier filtered images\n",
    "fig_filtered, ax_filtered = plt.subplots(2, 3, figsize=(9.5, 6), sharex=True, sharey=True)\n",
    "ax_filtered[0, 0].imshow(image_inp, cmap='gray')\n",
    "ax_filtered[0, 1].imshow(np.real(image_filtered_111), cmap='gray')\n",
    "ax_filtered[0, 2].imshow(np.real(image_filtered_11bar1_a), cmap='gray')\n",
    "ax_filtered[1, 0].imshow(np.real(image_filtered_11bar1_b), cmap='gray')\n",
    "ax_filtered[1, 1].imshow(np.real(image_filtered_002_a), cmap='gray')\n",
    "ax_filtered[1, 2].imshow(np.real(image_filtered_002_b), cmap='gray')\n",
    "\n",
    "ax_filtered[0, 0].set_title('Raw data')\n",
    "ax_filtered[0, 1].set_title('$111$')\n",
    "ax_filtered[0, 2].set_title('$11\\overline{1}_a$')\n",
    "ax_filtered[1, 0].set_title('$11\\overline{1}_b$')\n",
    "ax_filtered[1, 1].set_title('$002_a$')\n",
    "ax_filtered[1, 2].set_title('$002_b$')\n",
    "\n",
    "for i in range(0, 2):\n",
    "    for j in range(0, 3):\n",
    "        ax_filtered[i, j].set_xlim(850, 1150)\n",
    "        ax_filtered[i, j].set_ylim(1150, 850)\n",
    "\n",
    "plt.show()"
   ]
  },
  {
   "cell_type": "code",
   "execution_count": null,
   "id": "0131b73f",
   "metadata": {},
   "outputs": [],
   "source": []
  },
  {
   "cell_type": "code",
   "execution_count": null,
   "id": "91201bc9",
   "metadata": {},
   "outputs": [],
   "source": []
  },
  {
   "cell_type": "code",
   "execution_count": null,
   "id": "4ba4d3f3",
   "metadata": {},
   "outputs": [],
   "source": []
  },
  {
   "cell_type": "code",
   "execution_count": null,
   "id": "bfee05ba",
   "metadata": {},
   "outputs": [],
   "source": [
    "# Combine the lattice fringes to help the visualization of crystalline defects\n",
    "fig_filtered_comb, ax_filtered_comb = plt.subplots(2, 2, figsize=(9.5, 9), sharex=True, sharey=True)\n",
    "ax_filtered_comb[0, 0].imshow(image_inp, cmap='gray')\n",
    "ax_filtered_comb[0, 1].imshow(..., cmap='gray')\n",
    "ax_filtered_comb[1, 0].imshow(..., cmap='gray')\n",
    "ax_filtered_comb[1, 1].imshow(..., cmap='gray')\n",
    "\n",
    "\n",
    "plt.show()"
   ]
  },
  {
   "cell_type": "code",
   "execution_count": null,
   "id": "5aa67337",
   "metadata": {},
   "outputs": [],
   "source": []
  },
  {
   "cell_type": "code",
   "execution_count": null,
   "id": "c41120db",
   "metadata": {},
   "outputs": [],
   "source": []
  },
  {
   "cell_type": "code",
   "execution_count": null,
   "id": "18d170f0",
   "metadata": {},
   "outputs": [],
   "source": []
  },
  {
   "cell_type": "code",
   "execution_count": null,
   "id": "cd39f09a",
   "metadata": {},
   "outputs": [],
   "source": [
    "# Example of lattice fringes seperation using RGB image\n",
    "\n",
    "image_RGB = np.empty((0, 2048, 2048))\n",
    "image_RGB = np.append(image_RGB, [np.real(image_filtered_11bar1_a)/(np.max(np.abs(np.real(image_filtered_11bar1_a)))) / 2 + 0.15], axis=0)\n",
    "image_RGB = np.append(image_RGB, [np.real(image_filtered_002_b)/(np.max(np.abs(np.real(image_filtered_002_b)))) / 2 + 0.15], axis=0)\n",
    "image_RGB = np.append(image_RGB, [np.real(image_filtered_111)/(np.max(np.abs(np.real(image_filtered_111)))) / 2 + 0.15], axis=0)\n",
    "\n",
    "image_RGB = np.transpose(image_RGB, axes=(1, 2, 0))"
   ]
  },
  {
   "cell_type": "code",
   "execution_count": null,
   "id": "d9591fab",
   "metadata": {},
   "outputs": [],
   "source": [
    "fig_RGB, ax_RGB = plt.subplots(1, 1, figsize=(8, 8))\n",
    "ax_RGB.imshow(image_RGB)\n",
    "\n",
    "plt.show()"
   ]
  },
  {
   "cell_type": "code",
   "execution_count": null,
   "id": "3210451f",
   "metadata": {},
   "outputs": [],
   "source": []
  }
 ],
 "metadata": {
  "kernelspec": {
   "display_name": "Python 3 (ipykernel)",
   "language": "python",
   "name": "python3"
  },
  "language_info": {
   "codemirror_mode": {
    "name": "ipython",
    "version": 3
   },
   "file_extension": ".py",
   "mimetype": "text/x-python",
   "name": "python",
   "nbconvert_exporter": "python",
   "pygments_lexer": "ipython3",
   "version": "3.9.0"
  }
 },
 "nbformat": 4,
 "nbformat_minor": 5
}
